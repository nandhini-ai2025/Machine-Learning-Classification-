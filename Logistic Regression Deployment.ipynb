{
 "cells": [
  {
   "cell_type": "code",
   "execution_count": 1,
   "id": "c07ffc44-1f38-431e-b38a-5e29c9449028",
   "metadata": {},
   "outputs": [],
   "source": [
    "import pickle"
   ]
  },
  {
   "cell_type": "code",
   "execution_count": 2,
   "id": "1eaf0b88-1d3e-47de-be38-a967f38fbfd3",
   "metadata": {},
   "outputs": [],
   "source": [
    "loaded_model = pickle.load(open(\"finalized_model_LogisticRegression.sav\", 'rb'))\n",
    "sc = pickle.load(open(\"scaler_LR.sav\", 'rb'))"
   ]
  },
  {
   "cell_type": "code",
   "execution_count": 3,
   "id": "73f58278-0500-4378-b269-270d28514a2e",
   "metadata": {},
   "outputs": [
    {
     "name": "stderr",
     "output_type": "stream",
     "text": [
      "C:\\Anaconda3\\Lib\\site-packages\\sklearn\\utils\\validation.py:2739: UserWarning: X does not have valid feature names, but StandardScaler was fitted with feature names\n",
      "  warnings.warn(\n"
     ]
    }
   ],
   "source": [
    "preinput = sc.transform([[\n",
    "    55,     # age\n",
    "    80,     # bp\n",
    "    2.0,    # al\n",
    "    0.0,    # su\n",
    "    120.0,  # bgr\n",
    "    54.0,   # bu\n",
    "    1.3,    # sc\n",
    "    135.0,  # sod\n",
    "    4.8,    # pot\n",
    "    13.2,   # hrmo\n",
    "    40.0,   # pcv\n",
    "    9800.0, # wc\n",
    "    5.0,    # rc\n",
    "    0, 1, 0, 0,   # sg_b, sg_c, sg_d, sg_e\n",
    "    1,            # rbc_normal\n",
    "    1,            # pc_normal\n",
    "    0,            # pcc_present\n",
    "    0,            # ba_present\n",
    "    1,            # htn_yes\n",
    "    0,            # dm_yes\n",
    "    0,            # cad_yes\n",
    "    1,            # appet_yes\n",
    "    0,            # pe_yes\n",
    "    0             # ane_yes\n",
    "]])"
   ]
  },
  {
   "cell_type": "code",
   "execution_count": 4,
   "id": "79e7a480-f9bc-4dbc-ba96-01d5bfec3fe2",
   "metadata": {},
   "outputs": [],
   "source": [
    "prediction = loaded_model.predict(preinput)"
   ]
  },
  {
   "cell_type": "code",
   "execution_count": 5,
   "id": "3f6f6f6f-e4fd-4ee7-b6d9-f2eaa03ec8b9",
   "metadata": {},
   "outputs": [
    {
     "data": {
      "text/plain": [
       "array([1])"
      ]
     },
     "execution_count": 5,
     "metadata": {},
     "output_type": "execute_result"
    }
   ],
   "source": [
    "prediction"
   ]
  },
  {
   "cell_type": "code",
   "execution_count": 6,
   "id": "1d1f6ef9-c5b2-4344-a1cb-a20ab328feae",
   "metadata": {},
   "outputs": [
    {
     "name": "stdout",
     "output_type": "stream",
     "text": [
      "Prediction: The person is likely to have Chronic Kidney Disease.\n"
     ]
    }
   ],
   "source": [
    "if prediction[0] == 1:\n",
    "    print(\"Prediction: The person is likely to have Chronic Kidney Disease.\")\n",
    "else:\n",
    "    print(\"Prediction: The person is unlikely to have Chronic Kidney Disease.\")"
   ]
  },
  {
   "cell_type": "code",
   "execution_count": null,
   "id": "df1b8326-0d5a-4e1d-8da1-059d7a66e851",
   "metadata": {},
   "outputs": [],
   "source": []
  }
 ],
 "metadata": {
  "kernelspec": {
   "display_name": "Python 3 (ipykernel)",
   "language": "python",
   "name": "python3"
  },
  "language_info": {
   "codemirror_mode": {
    "name": "ipython",
    "version": 3
   },
   "file_extension": ".py",
   "mimetype": "text/x-python",
   "name": "python",
   "nbconvert_exporter": "python",
   "pygments_lexer": "ipython3",
   "version": "3.13.5"
  }
 },
 "nbformat": 4,
 "nbformat_minor": 5
}
